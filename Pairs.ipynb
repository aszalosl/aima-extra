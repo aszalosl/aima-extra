{
 "cells": [
  {
   "cell_type": "markdown",
   "metadata": {},
   "source": [
    "# Pairs\n",
    "We have a given pair, and need to get to an other given pair.\n",
    "You can increment or decrement the first number by the second, or you can replace them."
   ]
  },
  {
   "cell_type": "code",
   "execution_count": 1,
   "metadata": {
    "collapsed": true
   },
   "outputs": [],
   "source": [
    "from search import *"
   ]
  },
  {
   "cell_type": "code",
   "execution_count": 2,
   "metadata": {
    "collapsed": true
   },
   "outputs": [],
   "source": [
    "class Pairs(Problem):\n",
    "    def __init__(self, a, b, c, d):\n",
    "        self.goal = (c, d)\n",
    "        self.initial = (a, b)\n",
    "    \n",
    "    def actions(self, state):\n",
    "        return [\"+\", \"-\", \"%\"]\n",
    "    \n",
    "    def result(self, state, action):\n",
    "        (m, n) = state\n",
    "        if \"+\" == action:\n",
    "            return (m+n, n)\n",
    "        elif \"-\" == action:\n",
    "            return (m-n, n)\n",
    "        else:\n",
    "            return (n, m)"
   ]
  },
  {
   "cell_type": "code",
   "execution_count": 4,
   "metadata": {},
   "outputs": [
    {
     "data": {
      "text/plain": [
       "['-', '-', '%', '+', '%', '+', '%']"
      ]
     },
     "execution_count": 4,
     "metadata": {},
     "output_type": "execute_result"
    }
   ],
   "source": [
    "p = Pairs(24, 9, 15, 21)\n",
    "breadth_first_search(p).solution()"
   ]
  }
 ],
 "metadata": {
  "kernelspec": {
   "display_name": "Python 3",
   "language": "python",
   "name": "python3"
  },
  "language_info": {
   "codemirror_mode": {
    "name": "ipython",
    "version": 3
   },
   "file_extension": ".py",
   "mimetype": "text/x-python",
   "name": "python",
   "nbconvert_exporter": "python",
   "pygments_lexer": "ipython3",
   "version": "3.6.9"
  }
 },
 "nbformat": 4,
 "nbformat_minor": 2
}
