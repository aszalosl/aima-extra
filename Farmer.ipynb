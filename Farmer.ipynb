{
 "cells": [
  {
   "cell_type": "markdown",
   "metadata": {},
   "source": [
    "## Wolf, goat and cabbage\n",
    "\n",
    "A farmer wants to cross a river and take with him a wolf,\n",
    "a goat, and a cabbage. There is a boat that can only fit two,\n",
    "himself plus either the wolf, the goat, or the cabbage.\n",
    "If the wolf and the goat are alone on one shore,\n",
    "the wolf will eat the goat. If the goat and the cabbage are\n",
    "alone on the shore, the goat will eat the cabbage."
   ]
  },
  {
   "cell_type": "code",
   "execution_count": 1,
   "metadata": {},
   "outputs": [],
   "source": [
    "from farmer import *"
   ]
  },
  {
   "cell_type": "code",
   "execution_count": 2,
   "metadata": {},
   "outputs": [
    {
     "name": "stdout",
     "output_type": "stream",
     "text": [
      "['g', '-', 'w', 'g', 'c', '-', 'g']\n"
     ]
    }
   ],
   "source": [
    "f = Farmer()\n",
    "print(breadth_first_graph_search(f).solution())"
   ]
  }
 ],
 "metadata": {
  "kernelspec": {
   "display_name": "Python 3",
   "language": "python",
   "name": "python3"
  },
  "language_info": {
   "codemirror_mode": {
    "name": "ipython",
    "version": 3
   },
   "file_extension": ".py",
   "mimetype": "text/x-python",
   "name": "python",
   "nbconvert_exporter": "python",
   "pygments_lexer": "ipython3",
   "version": "3.6.9"
  }
 },
 "nbformat": 4,
 "nbformat_minor": 2
}
