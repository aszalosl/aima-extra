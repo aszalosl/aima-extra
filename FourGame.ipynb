{
 "cells": [
  {
   "cell_type": "markdown",
   "metadata": {},
   "source": [
    "# Four game\n",
    "We start from the number 4, and with each step we can either put numbers 0 or 4 to the end of the actual number, or if the number is even, we can divide it by 2.\n",
    "\n",
    "Your goal is to find the route to 2017!"
   ]
  },
  {
   "cell_type": "code",
   "execution_count": 2,
   "metadata": {},
   "outputs": [],
   "source": [
    "from search import *"
   ]
  },
  {
   "cell_type": "markdown",
   "metadata": {},
   "source": [
    "We can see the abstract class of the problems:"
   ]
  },
  {
   "cell_type": "code",
   "execution_count": 2,
   "metadata": {},
   "outputs": [],
   "source": [
    "%psource Problem"
   ]
  },
  {
   "cell_type": "markdown",
   "metadata": {},
   "source": [
    "To describe our problem we need to give our starting and goal states, the set of possible actions, \n",
    "and the result of these actions:"
   ]
  },
  {
   "cell_type": "code",
   "execution_count": 3,
   "metadata": {},
   "outputs": [],
   "source": [
    "class Four(Problem):\n",
    "    def __init__(self, n):\n",
    "        self.goal = n\n",
    "        self.initial = 4\n",
    "    \n",
    "    def actions(self, state):\n",
    "        return [\"0\", \"4\", \"/\"] if 0 == state % 2 else [\"0\", \"4\"]\n",
    "    \n",
    "    def result(self, state, action):\n",
    "        if \"0\" == action:\n",
    "            return state*10\n",
    "        elif \"4\" == action:\n",
    "            return state*10+4\n",
    "        else:\n",
    "            return state // 2"
   ]
  },
  {
   "cell_type": "code",
   "execution_count": 4,
   "metadata": {},
   "outputs": [
    {
     "data": {
      "text/plain": [
       "['0', '4', '0', '/']"
      ]
     },
     "execution_count": 4,
     "metadata": {},
     "output_type": "execute_result"
    }
   ],
   "source": [
    "a = Four(2020)\n",
    "breadth_first_graph_search(a).solution()"
   ]
  }
 ],
 "metadata": {
  "kernelspec": {
   "display_name": "Python 3",
   "language": "python",
   "name": "python3"
  },
  "language_info": {
   "codemirror_mode": {
    "name": "ipython",
    "version": 3
   },
   "file_extension": ".py",
   "mimetype": "text/x-python",
   "name": "python",
   "nbconvert_exporter": "python",
   "pygments_lexer": "ipython3",
   "version": "3.6.9"
  }
 },
 "nbformat": 4,
 "nbformat_minor": 2
}
