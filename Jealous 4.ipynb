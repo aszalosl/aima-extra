{
 "cells": [
  {
   "cell_type": "markdown",
   "metadata": {},
   "source": [
    "## Jealous husbands\n",
    "\n",
    "**Four** married couples must cross a river using a boat which can hold at most\n",
    "two people, subject to the constraint that no woman can be in the presence of\n",
    "another man unless her husband is also present. The boat cannot cross the river\n",
    "by itself with no people on board. There is an island in the middle of the\n",
    "river where the boat may land and leave some of its cargo.\n"
   ]
  },
  {
   "cell_type": "code",
   "execution_count": 1,
   "metadata": {},
   "outputs": [],
   "source": [
    "from jealous4 import *"
   ]
  },
  {
   "cell_type": "code",
   "execution_count": 2,
   "metadata": {},
   "outputs": [],
   "source": [
    "%psource Jealous4"
   ]
  },
  {
   "cell_type": "code",
   "execution_count": 2,
   "metadata": {},
   "outputs": [
    {
     "data": {
      "text/plain": [
       "['RDd',\n",
       " 'LD',\n",
       " 'Rbc',\n",
       " 'Lc',\n",
       " 'IAa',\n",
       " 'LA',\n",
       " 'RBD',\n",
       " 'Id',\n",
       " 'La',\n",
       " 'RCc',\n",
       " 'LD',\n",
       " 'RAD',\n",
       " 'Lb',\n",
       " 'Rab',\n",
       " 'Ia',\n",
       " 'Rad']"
      ]
     },
     "execution_count": 2,
     "metadata": {},
     "output_type": "execute_result"
    }
   ],
   "source": [
    "j = Jealous4()\n",
    "breadth_first_graph_search(j).solution()"
   ]
  }
 ],
 "metadata": {
  "kernelspec": {
   "display_name": "Python 3",
   "language": "python",
   "name": "python3"
  },
  "language_info": {
   "codemirror_mode": {
    "name": "ipython",
    "version": 3
   },
   "file_extension": ".py",
   "mimetype": "text/x-python",
   "name": "python",
   "nbconvert_exporter": "python",
   "pygments_lexer": "ipython3",
   "version": "3.6.9"
  }
 },
 "nbformat": 4,
 "nbformat_minor": 2
}
