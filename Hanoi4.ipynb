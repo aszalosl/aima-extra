{
 "cells": [
  {
   "cell_type": "markdown",
   "metadata": {},
   "source": [
    "## Hanoi 4\n",
    "\n",
    "We have four rods and a number of disks of different sizes which can slide onto any rod.\n",
    "The puzzle starts with the disks in a neat stack in ascending order of size on a single rod,\n",
    "the smallest at the top, thus making a conical shape. The objective of the puzzle is to move\n",
    "the entire stack to another rod, obeying the following simple rules:\n",
    "* Only one disk can be moved at a time.\n",
    "* Each move consists of taking the upper disk from one of the stacks and placing it on top\n",
    "  of another stack i.e. a disk can only be moved if it is the uppermost disk on a stack.\n",
    "* No disk may be placed on top of a smaller disk."
   ]
  },
  {
   "cell_type": "code",
   "execution_count": 2,
   "metadata": {},
   "outputs": [],
   "source": [
    "from hanoi4 import *"
   ]
  },
  {
   "cell_type": "code",
   "execution_count": 3,
   "metadata": {},
   "outputs": [
    {
     "data": {
      "text/plain": [
       "[S(disk=0, rod='2'),\n",
       " S(disk=1, rod='3'),\n",
       " S(disk=2, rod='4'),\n",
       " S(disk=0, rod='3'),\n",
       " S(disk=3, rod='2'),\n",
       " S(disk=0, rod='1'),\n",
       " S(disk=2, rod='2'),\n",
       " S(disk=1, rod='2'),\n",
       " S(disk=0, rod='2')]"
      ]
     },
     "execution_count": 3,
     "metadata": {},
     "output_type": "execute_result"
    }
   ],
   "source": [
    "h4 = Hanoi(4)\n",
    "breadth_first_search(h4).solution()"
   ]
  }
 ],
 "metadata": {
  "kernelspec": {
   "display_name": "Python 3",
   "language": "python",
   "name": "python3"
  },
  "language_info": {
   "codemirror_mode": {
    "name": "ipython",
    "version": 3
   },
   "file_extension": ".py",
   "mimetype": "text/x-python",
   "name": "python",
   "nbconvert_exporter": "python",
   "pygments_lexer": "ipython3",
   "version": "3.6.9"
  }
 },
 "nbformat": 4,
 "nbformat_minor": 2
}
