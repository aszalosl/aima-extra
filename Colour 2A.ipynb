{
 "cells": [
  {
   "cell_type": "markdown",
   "metadata": {},
   "source": [
    "## Coloured hanoi 2A\n",
    "\n",
    "We have three rods and a number of disks of different sizes which can slide onto any rod.\n",
    "For every size there are two disks: one black and one white.\n",
    "The puzzle starts with the disks in a neat stack in ascending order of\n",
    "size on the first rod in alternating colour, the smallest at the top,\n",
    "thus making a conical shape. The objective of the puzzle is to make\n",
    "two monochrome towers on the first two rods obeying the following simple rules:\n",
    "* Only one disk can be moved at a time.\n",
    "* Each move consists of taking the upper disk from one of the stacks and\n",
    "  placing it on top of another stack i.e.\n",
    "  a disk can only be moved if it is the uppermost disk on a stack.\n",
    "* No disk may be placed on top of a smaller disk."
   ]
  },
  {
   "cell_type": "code",
   "execution_count": 6,
   "metadata": {},
   "outputs": [],
   "source": [
    "from hanoi_color2 import *"
   ]
  },
  {
   "cell_type": "code",
   "execution_count": 7,
   "metadata": {},
   "outputs": [],
   "source": [
    "%psource Hanoi"
   ]
  },
  {
   "cell_type": "code",
   "execution_count": 5,
   "metadata": {},
   "outputs": [
    {
     "data": {
      "text/plain": [
       "[(1, 2),\n",
       " (1, 2),\n",
       " (1, 3),\n",
       " (1, 3),\n",
       " (2, 1),\n",
       " (2, 1),\n",
       " (3, 2),\n",
       " (3, 2),\n",
       " (1, 2),\n",
       " (1, 2),\n",
       " (1, 3),\n",
       " (2, 1),\n",
       " (2, 1),\n",
       " (2, 3),\n",
       " (2, 3),\n",
       " (1, 3),\n",
       " (1, 3),\n",
       " (1, 2),\n",
       " (3, 1),\n",
       " (3, 1),\n",
       " (3, 2),\n",
       " (3, 2),\n",
       " (1, 2),\n",
       " (1, 2),\n",
       " (3, 1),\n",
       " (2, 3),\n",
       " (2, 3),\n",
       " (2, 1),\n",
       " (3, 1),\n",
       " (3, 2)]"
      ]
     },
     "execution_count": 5,
     "metadata": {},
     "output_type": "execute_result"
    }
   ],
   "source": [
    "hanoi = Hanoi(3)\n",
    "breadth_first_graph_search(hanoi).solution()"
   ]
  }
 ],
 "metadata": {
  "kernelspec": {
   "display_name": "Python 3",
   "language": "python",
   "name": "python3"
  },
  "language_info": {
   "codemirror_mode": {
    "name": "ipython",
    "version": 3
   },
   "file_extension": ".py",
   "mimetype": "text/x-python",
   "name": "python",
   "nbconvert_exporter": "python",
   "pygments_lexer": "ipython3",
   "version": "3.6.9"
  }
 },
 "nbformat": 4,
 "nbformat_minor": 2
}
