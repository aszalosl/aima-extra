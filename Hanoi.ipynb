{
 "cells": [
  {
   "cell_type": "markdown",
   "metadata": {},
   "source": [
    "## Hanoi towers\n",
    "\n",
    "We have three rods and a number of disks of different sizes which can slide onto any rod.\n",
    "The puzzle starts with the disks in a neat stack in ascending order of size on a single rod,\n",
    "the smallest at the top, thus making a conical shape. The objective of the puzzle is to move\n",
    "the entire stack to another rod, obeying the following simple rules:\n",
    "* Only one disk can be moved at a time.\n",
    "* Each move consists of taking the upper disk from one of the stacks and placing it on top\n",
    "  of another stack i.e. a disk can only be moved if it is the uppermost disk on a stack.\n",
    "* No disk may be placed on top of a smaller disk."
   ]
  },
  {
   "cell_type": "code",
   "execution_count": null,
   "metadata": {},
   "outputs": [],
   "source": [
    "from search import *\n",
    "from collections import namedtuple\n",
    "State=namedtuple(\"State\", [\"disk\",\"rod\"])"
   ]
  },
  {
   "cell_type": "markdown",
   "metadata": {},
   "source": [
    "We use strings to store the states. The i<sup>th</sup> character of the string denotes on which rod is the disk of size _i_. For strings the method ```find``` finds the size of the smallest disk on a given rod, or gives -1, if that rod is empty.\n",
    "\n",
    "We can move a disk if it is on a non-empty rod, and on the target rod the smallest disk (if it exists) is bigger then the smallest on the source rod."
   ]
  },
  {
   "cell_type": "code",
   "execution_count": null,
   "metadata": {},
   "outputs": [],
   "source": [
    "class Hanoi(Problem):\n",
    "    def __init__(self, n):\n",
    "        self.size = n\n",
    "        super().__init__(\"1\" * n, \"2\" * n)\n",
    "    \n",
    "    def actions(self,state):\n",
    "        acts = []\n",
    "        f1 = state.find(\"1\")\n",
    "        f2 = state.find(\"2\")\n",
    "        f3 = state.find(\"3\")\n",
    "        if -1 < f1 and (f1 < f2 or f2 == -1):\n",
    "            acts.append(State(f1,\"2\"))\n",
    "        if -1 < f1 and (f1 < f3 or f3 == -1):\n",
    "            acts.append(State(f1,\"3\"))\n",
    "            \n",
    "        if -1 < f2 and (f2 < f1 or f1 == -1):\n",
    "            acts.append(State(f2,\"1\"))\n",
    "        if -1 < f2 and (f2 < f3 or f3 == -1):\n",
    "            acts.append(State(f2,\"3\"))\n",
    "        if -1 < f3 and (f3 < f1 or f1 == -1):\n",
    "            acts.append(State(f3,\"1\"))\n",
    "        if -1 < f3 and (f3 < f2 or f2 == -1):\n",
    "            acts.append(State(f3,\"2\"))\n",
    "        return acts\n",
    "    \n",
    "    def result(self, state, action):\n",
    "        disk, char = action\n",
    "        return state[0:disk] + char + state[disk+1:]"
   ]
  },
  {
   "cell_type": "code",
   "execution_count": null,
   "metadata": {},
   "outputs": [],
   "source": [
    "h = Hanoi(3)\n",
    "breadth_first_search(h).solution()"
   ]
  },
  {
   "cell_type": "code",
   "execution_count": null,
   "metadata": {},
   "outputs": [],
   "source": [
    "h4 = Hanoi(4)\n",
    "breadth_first_search(h4).solution()"
   ]
  },
  {
   "cell_type": "code",
   "execution_count": null,
   "metadata": {},
   "outputs": [],
   "source": [
    "depth_first_graph_search(h).solution()"
   ]
  },
  {
   "cell_type": "code",
   "execution_count": null,
   "metadata": {},
   "outputs": [],
   "source": [
    "breadth_first_tree_search(h).solution()"
   ]
  },
  {
   "cell_type": "markdown",
   "metadata": {},
   "source": [
    "do not try at home:"
   ]
  },
  {
   "cell_type": "code",
   "execution_count": null,
   "metadata": {},
   "outputs": [],
   "source": [
    "depth_first_tree_search(h).solution()"
   ]
  }
 ],
 "metadata": {
  "kernelspec": {
   "display_name": "Python 3",
   "language": "python",
   "name": "python3"
  },
  "language_info": {
   "codemirror_mode": {
    "name": "ipython",
    "version": 3
   },
   "file_extension": ".py",
   "mimetype": "text/x-python",
   "name": "python",
   "nbconvert_exporter": "python",
   "pygments_lexer": "ipython3",
   "version": "3.6.9"
  }
 },
 "nbformat": 4,
 "nbformat_minor": 2
}
