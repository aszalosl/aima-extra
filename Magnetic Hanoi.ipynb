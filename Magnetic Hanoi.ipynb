{
 "cells": [
  {
   "cell_type": "markdown",
   "metadata": {},
   "source": [
    "## Magnetic Hanoi\n",
    "\n",
    "We have three rods and a number of disks of different sizes which can slide onto any rod.\n",
    "Each disk has two distinct sides North and South (typically colored red and blue).\n",
    "The puzzle starts with the disks in a neat stack in ascending order of size on a single rod,\n",
    "the smallest on top, thus making a conical shape. The objective of the puzzle is to move the\n",
    "entire stack to another rod, obeying the following simple rules:\n",
    "* Only one disk can be moved at a time.\n",
    "* Each move consists of taking the upper disk from one of the stacks and placing it on top of\n",
    "  another stack i.e. a disk can only be moved if it is the uppermost disk on a stack.\n",
    "* No disk may be placed on top of a smaller disk.\n",
    "* Disks must not be placed together with similar poles — \n",
    "  magnets in each disk prevent this illegal move.\n",
    "* Each disk must be flipped as it is moved."
   ]
  },
  {
   "cell_type": "code",
   "execution_count": 1,
   "metadata": {},
   "outputs": [],
   "source": [
    "from hanoi_magnetic import *"
   ]
  },
  {
   "cell_type": "code",
   "execution_count": 2,
   "metadata": {},
   "outputs": [],
   "source": [
    "%psource Hanoi"
   ]
  },
  {
   "cell_type": "code",
   "execution_count": 3,
   "metadata": {},
   "outputs": [
    {
     "data": {
      "text/plain": [
       "[State(frm=1, to=2),\n",
       " State(frm=1, to=3),\n",
       " State(frm=2, to=1),\n",
       " State(frm=1, to=3),\n",
       " State(frm=1, to=2),\n",
       " State(frm=3, to=1),\n",
       " State(frm=1, to=2),\n",
       " State(frm=3, to=1),\n",
       " State(frm=2, to=3),\n",
       " State(frm=1, to=2),\n",
       " State(frm=3, to=2),\n",
       " State(frm=1, to=3),\n",
       " State(frm=2, to=1),\n",
       " State(frm=1, to=3),\n",
       " State(frm=2, to=1),\n",
       " State(frm=3, to=1),\n",
       " State(frm=1, to=2),\n",
       " State(frm=1, to=3),\n",
       " State(frm=2, to=1),\n",
       " State(frm=1, to=3),\n",
       " State(frm=2, to=1),\n",
       " State(frm=3, to=1),\n",
       " State(frm=3, to=2),\n",
       " State(frm=1, to=3),\n",
       " State(frm=3, to=2),\n",
       " State(frm=1, to=3),\n",
       " State(frm=2, to=1),\n",
       " State(frm=2, to=3),\n",
       " State(frm=1, to=2),\n",
       " State(frm=2, to=3)]"
      ]
     },
     "execution_count": 3,
     "metadata": {},
     "output_type": "execute_result"
    }
   ],
   "source": [
    "hanoi = Hanoi(4)\n",
    "breadth_first_search(hanoi).solution()"
   ]
  }
 ],
 "metadata": {
  "kernelspec": {
   "display_name": "Python 3",
   "language": "python",
   "name": "python3"
  },
  "language_info": {
   "codemirror_mode": {
    "name": "ipython",
    "version": 3
   },
   "file_extension": ".py",
   "mimetype": "text/x-python",
   "name": "python",
   "nbconvert_exporter": "python",
   "pygments_lexer": "ipython3",
   "version": "3.6.9"
  }
 },
 "nbformat": 4,
 "nbformat_minor": 2
}
